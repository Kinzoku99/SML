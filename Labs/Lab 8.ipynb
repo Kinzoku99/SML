{
 "cells": [
  {
   "cell_type": "markdown",
   "metadata": {
    "id": "eAMEuAbbH-Or"
   },
   "source": [
    "## Description\n"
   ]
  },
  {
   "cell_type": "markdown",
   "metadata": {
    "id": "YXweAU-UR7F7"
   },
   "source": [
    "In today's class, we will learn how to perform linear regression.  \n",
    "It's a method of fitting a linear function to a data set with a single predicted numerical variable $Y$ and several explanatory variables (a.k.a. predictors or independent variables) stored in a matrix $X$.  \n",
    "The model of linear regression can be written as  \n",
    "$$Y_i = X_i\\beta + \\epsilon_i,$$\n",
    "where $X_i$ is the i-th row of the $X$ matrix and $\\epsilon_i$ is the effect of factors influencing the value of $Y$ that are not included in $X$. This effect is called an *error*, but note that it's a slightly misleading name.   \n",
    "\n",
    "When we want to include categorical variables as predictors (i.e. model the differences of income between voivodeships), we create so-called *dummy variables*: for each category of the variable, we create a binary dummy variable which is equal to 1 if a given observation comes from this category and 0 otherwise."
   ]
  },
  {
   "cell_type": "code",
   "execution_count": null,
   "metadata": {
    "colab": {
     "base_uri": "https://localhost:8080/"
    },
    "id": "jkB6U888K8KX",
    "outputId": "98e62e1f-6455-4c29-b3ef-e3b9aca97a11"
   },
   "outputs": [],
   "source": [
    "!pip install gdown\n",
    "!gdown https://drive.google.com/uc?id=1GW1pjKOCoKOlC4Jqbqql_ghYD_n0iC6O\n",
    "!gdown https://drive.google.com/uc?id=1FInZ2jrlZGNColU4sHF9JKGHP39fTVut\n",
    "!gdown https://drive.google.com/uc?id=1n1qS6dcVVKcVJOuUIIm0VTz6cSyrtzDH"
   ]
  },
  {
   "cell_type": "markdown",
   "metadata": {
    "id": "PbgBtcAsK6T2"
   },
   "source": [
    "## Data & library imports"
   ]
  },
  {
   "cell_type": "markdown",
   "metadata": {
    "id": "nw7j4NqHVYFH"
   },
   "source": [
    "In this notebook, we'll introduce another Python library for statistical data analysis. The `statsmodels` library implements several statistical tests and methods for linear regression."
   ]
  },
  {
   "cell_type": "code",
   "execution_count": null,
   "metadata": {
    "id": "8H2cI48aR97y"
   },
   "outputs": [],
   "source": [
    "import pandas as pd\n",
    "import plotly.express as px\n",
    "import numpy as np\n",
    "from scipy.stats import norm, uniform\n",
    "import statsmodels.api as sm"
   ]
  },
  {
   "cell_type": "code",
   "execution_count": null,
   "metadata": {
    "id": "5dofE7aHSGpk"
   },
   "outputs": [],
   "source": [
    "income = pd.read_csv('BDL municipality incomes 2015-2020.csv', sep=';', dtype={'Code': 'str'})\n",
    "income.dropna(inplace=True)"
   ]
  },
  {
   "cell_type": "markdown",
   "metadata": {
    "id": "YNoZg-l4Vb6k"
   },
   "source": [
    "**Excercise 1** (pen&paper or blackboard). Find OLS estimator for the model  $$y_i = \\beta_0 + \\beta_1x_{1i} + \\beta_2x_{2i} + \\varepsilon_i,$$ where $n = 4$,\n",
    "$x_1^T = [1, 1, 2, −4]$, $x_2^T\n",
    "= [−3, −3, 5, 1]$, $y^T = [1, 2, 3, 1]$. Find the residuals, the vector of the fitted values, and the value of $R^2$."
   ]
  },
  {
   "cell_type": "markdown",
   "metadata": {
    "id": "AcZirEPWYs7y"
   },
   "source": [
    "**Excercise 2** In this exercise, we'll learn how to estimate the linear regression in Python. Check your answers from Exercise 1 by constructing a linear regression model. Provide the interpretation for the coefficients."
   ]
  },
  {
   "cell_type": "code",
   "execution_count": null,
   "metadata": {
    "colab": {
     "base_uri": "https://localhost:8080/"
    },
    "id": "r1Iy9DHNWyqm",
    "outputId": "8d6b01b8-dfe5-488d-afee-18f2d767518e"
   },
   "outputs": [],
   "source": [
    "x1 = [1,1,2,-4]\n",
    "x2 = [-3,-3,5,1]\n",
    "y = [1,2,3,1]\n",
    "\n",
    "\n",
    "X = pd.DataFrame({\n",
    "    'x1': x1,\n",
    "    'x2': x2,\n",
    "})\n",
    "\n",
    "# this one is important -- we have to add an intercept manually\n",
    "X = sm.add_constant(X)\n",
    "\n",
    "model = sm.OLS(y, X)\n",
    "results = model.fit()\n",
    "print(results.summary())\n",
    "\n",
    "## Get the fitted values:\n",
    "fitted_values_summary = results.get_prediction().summary_frame()\n",
    "fitted_values = fitted_values_summary['mean']\n",
    "## Compute the residuals:\n",
    "residuals = y - fitted_values\n",
    "## The average prediction error can be estimated by RMSE\n",
    "## (it's an estimation on training data, so it's biased)\n",
    "print('RMSE of the model:', np.sqrt(np.mean(residuals**2)))\n",
    "# for log-transformed data, we need to transform the predictions back:\n",
    "# print('RMSE of back-transformed model:', np.sqrt(np.mean((10**Y - 10**fitted_values)**2)))\n",
    "## Standardize the residuals & compute the square root:\n",
    "residuals_standardized = (residuals - residuals.mean())/residuals.std()\n",
    "residuals_sqroot = np.sqrt(np.abs(residuals_standardized))\n",
    "## Calculate R^2:\n",
    "R2 = 1 - np.sum(residuals**2)/np.sum((y - np.mean(y))**2)\n",
    "print('Coefficient of determination:', R2)"
   ]
  },
  {
   "cell_type": "markdown",
   "metadata": {
    "id": "E4PYWS9CRvKI"
   },
   "source": [
    "## Forecasting"
   ]
  },
  {
   "cell_type": "markdown",
   "metadata": {
    "id": "YoSJMJbEb75p"
   },
   "source": [
    "**Exercise 4.** In this exercise, we'll learn how to use the linear regression for forecasting. Construct a linear regression model to explain the income of municipalities in 2017 (this is our dependent variable) based on the incomes from the years 2015 to 2016 (those are our independent variables).  \n",
    "Calculate the RMSE (root mean squared error) of the fitted values.\n",
    "\n",
    "Now, use this model to predict the incomes in 2018 based on the incomes from 2016 to 2017. Compute the RSS. Did the prediction error change? Why?\n",
    "\n",
    "Predict the incomes in 2019 and 2020. Can you notice something particular in the RMSE values? What is the consequence for forecasting using machine learning models?"
   ]
  },
  {
   "cell_type": "code",
   "execution_count": null,
   "metadata": {
    "colab": {
     "base_uri": "https://localhost:8080/"
    },
    "id": "9tWwLVBrlHRq",
    "outputId": "be4572ff-9304-48e7-b191-0d4080463caf",
    "scrolled": true
   },
   "outputs": [],
   "source": [
    "## With intercept:\n",
    "X = income[['2015', '2016']]\n",
    "model = sm.OLS(income['2017'], X)\n",
    "results = model.fit()\n",
    "print(results.summary())\n",
    "\n",
    "predict2017 = results.predict()\n",
    "predict2018 = results.predict(income[['2016', '2017']])\n",
    "predict2019 = results.predict(income[['2017', '2018']])\n",
    "predict2020 = results.predict(income[['2018', '2019']])"
   ]
  },
  {
   "cell_type": "code",
   "execution_count": null,
   "metadata": {},
   "outputs": [],
   "source": [
    "## Compute the residuals:\n",
    "residuals2017 = income['2017'] - predict2017\n",
    "residuals2018 = income['2018'] - predict2018\n",
    "residuals2019 = income['2019'] - predict2019\n",
    "residuals2020 = income['2020'] - predict2020\n",
    "## The average prediction error can be estimated by RMSE\n",
    "## (it's an estimation on training data, so it's biased)\n",
    "print('RMSE of the model for predict2017:', np.sqrt(np.mean(residuals2017**2)))\n",
    "print('RSS of the model for predict2017:', np.sum(residuals2017**2))\n",
    "\n",
    "print('RMSE of the model for predict2018:', np.sqrt(np.mean(residuals2018**2)))\n",
    "print('RSS of the model for predict2018:', np.sum(residuals2018**2))\n",
    "\n",
    "print('RMSE of the model for predict2019:', np.sqrt(np.mean(residuals2019**2)))\n",
    "print('RSS of the model for predict2019:', np.sum(residuals2019**2))\n",
    "\n",
    "print('RMSE of the model for predict2020:', np.sqrt(np.mean(residuals2020**2)))\n",
    "print('RSS of the model for predict2020:', np.sum(residuals2020**2))\n",
    "\n",
    "df = pd.DataFrame({'year': ['2017','2018','2019','2020'],\n",
    "                   'RSS': [np.sum(residuals2017**2),\n",
    "                           np.sum(residuals2018**2),\n",
    "                           np.sum(residuals2019**2),\n",
    "                           np.sum(residuals2020**2)]})\n",
    "df\n",
    "fig = px.line(df, x=\"year\", y=\"RSS\", title='')\n",
    "fig.show()"
   ]
  }
 ],
 "metadata": {
  "colab": {
   "provenance": []
  },
  "kernelspec": {
   "display_name": "Python 3 (ipykernel)",
   "language": "python",
   "name": "python3"
  },
  "language_info": {
   "codemirror_mode": {
    "name": "ipython",
    "version": 3
   },
   "file_extension": ".py",
   "mimetype": "text/x-python",
   "name": "python",
   "nbconvert_exporter": "python",
   "pygments_lexer": "ipython3",
   "version": "3.9.16"
  }
 },
 "nbformat": 4,
 "nbformat_minor": 1
}
