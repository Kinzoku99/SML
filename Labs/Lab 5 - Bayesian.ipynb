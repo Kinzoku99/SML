{
 "cells": [
  {
   "cell_type": "code",
   "execution_count": null,
   "metadata": {
    "colab": {
     "base_uri": "https://localhost:8080/"
    },
    "executionInfo": {
     "elapsed": 7043,
     "status": "ok",
     "timestamp": 1639411524017,
     "user": {
      "displayName": "Błażej Miasojedow",
      "photoUrl": "https://lh3.googleusercontent.com/a/default-user=s64",
      "userId": "00239620711763402112"
     },
     "user_tz": -60
    },
    "id": "jkB6U888K8KX",
    "outputId": "c04545ad-eba6-4277-815a-07c26155c313"
   },
   "outputs": [],
   "source": [
    "!pip install gdown\n",
    "!gdown https://drive.google.com/uc?id=1GW1pjKOCoKOlC4Jqbqql_ghYD_n0iC6O\n",
    "!gdown https://drive.google.com/uc?id=1FInZ2jrlZGNColU4sHF9JKGHP39fTVut\n",
    "!gdown https://drive.google.com/uc?id=1n1qS6dcVVKcVJOuUIIm0VTz6cSyrtzDH"
   ]
  },
  {
   "cell_type": "markdown",
   "metadata": {
    "id": "PbgBtcAsK6T2"
   },
   "source": [
    "## Data & library imports"
   ]
  },
  {
   "cell_type": "code",
   "execution_count": null,
   "metadata": {
    "id": "8H2cI48aR97y"
   },
   "outputs": [],
   "source": [
    "import pandas as pd\n",
    "import plotly.express as px\n",
    "import numpy as np\n",
    "from scipy.stats import norm, lognorm"
   ]
  },
  {
   "cell_type": "code",
   "execution_count": null,
   "metadata": {
    "id": "5dofE7aHSGpk"
   },
   "outputs": [],
   "source": [
    "income = pd.read_csv('BDL municipality incomes 2015-2020.csv', sep=';', dtype={'Code': 'str'})"
   ]
  },
  {
   "cell_type": "markdown",
   "metadata": {
    "id": "Xkkta6d4Sp4k"
   },
   "source": [
    "**Exercise 1.** In the first exercise, we'll perform a bayesian estimation of the mean income of municipalities based on a random sample. The sample is already selected in the cell below. For simplicity, we'll assume that the income and its mean are normally distributed, and that the frequentist estimator of the standard deviation always gives us the correct answer (so that we can use a model with a known variance).  \n",
    "\n",
    "First, using the $3\\sigma$ rule, calculate the hyperparameters for priors that assume:\n",
    "1. 99% probability that the mean income is between $10^4$ and $10^{12}$ PLN (a *weakly informative* prior),\n",
    "2. 99% probability that the mean income is between $10^6$ and $2\\cdot 10^8$ PLN (a *moderately informative* prior),\n",
    "3. 99% probability that the mean income is between $4\\cdot 10^7$ and $6 \\cdot 10^7$ PLN (a *strongly informative* prior),\n",
    "4. 99% probability that the mean income is between $8 \\cdot 10^7$ and $10^8$ PLN (a strongly informative, but *incorrect* prior).\n",
    "\n",
    "Write a function that takes the prior parameters, the mean and standard deviation estimated from the random sample, and the size of the sample, and returns the hyperparameters of the posterior distribution (the posterior mean and standard deviation). You can use the formulas from the description of this notebook or look them up at the [Wikipedia article](https://en.wikipedia.org/wiki/Conjugate_prior).\n",
    "\n",
    "Using the `norm.pdf` function, compute the posterior probability densities in points given by `x = np.linspace(1e06, 2e08, 501)` for all four priors. Visualize the densities on a plot. Annotate the plot with the true mean income and the value of the frequentist estimator (i.e. the arithmetic mean of the sample). Hint: create a data frame `posterior_pdf = pd.DataFrame({'x': x})` and add columns with the computed density values. Next, use `posterior_pdf = posterior_pdf.melt(id_vars='x', var_name=\"Type of prior\")` to get the data in a format suitable for plotting with `plotly.express`. Use the `fig = px.line()` function for plotting and `fig.add_vline()` to annotate the plots.  \n",
    "\n",
    "Create a plot showing the probability density function of the moderately informative prior and the corresponding posterior. Answer the following questions: How did the sample influence the prior distributions? Is there a large difference between the posteriors for the weakly and the moderately informative priors? What is the effect of incorrectly specifying the prior compared to specifying a prior with a large variance?\n",
    "\n",
    "What happens if you increase the size of the sample?  \n"
   ]
  },
  {
   "cell_type": "code",
   "execution_count": null,
   "metadata": {
    "colab": {
     "base_uri": "https://localhost:8080/"
    },
    "executionInfo": {
     "elapsed": 837,
     "status": "ok",
     "timestamp": 1639411538930,
     "user": {
      "displayName": "Błażej Miasojedow",
      "photoUrl": "https://lh3.googleusercontent.com/a/default-user=s64",
      "userId": "00239620711763402112"
     },
     "user_tz": -60
    },
    "id": "9Swg2rl0SNXO",
    "outputId": "5eddec5b-d305-4833-f8d2-39dfbaa30842"
   },
   "outputs": [],
   "source": [
    "## Get the data:\n",
    "income2020 = income['2020'].dropna()\n",
    "true_mean, true_sd = income2020.mean(), income2020.std()\n",
    "print('True mean:', round(true_mean), 'and standard deviation:', round(true_sd))\n",
    "## Get the sample:\n",
    "N = 36\n",
    "#income_sample = income2020.sample(N)\n",
    "income_sample = income2020[[2241, 1980, 2436,  979, 1064, 2146, 1983,  464, 1262,  318, 2429,\n",
    "                            1609, 2320, 1383,  813, 1948, 2392, 1930, 1751, 1330, 1586,  856,\n",
    "                            1149, 2369, 2189, 1993, 1911,  225,  546,  843, 1389,  821,  338,\n",
    "                            1986, 1132, 1077]]\n",
    "## Frequentist estimate:\n",
    "mu_estim = income_sample.mean()\n",
    "sd_estim = income_sample.std()\n",
    "print('Estimated mean:', round(mu_estim), 'and standard deviation:', round(sd_estim))\n",
    "## Write the rest of your code here. "
   ]
  },
  {
   "cell_type": "code",
   "execution_count": null,
   "metadata": {
    "colab": {
     "base_uri": "https://localhost:8080/",
     "height": 238
    },
    "executionInfo": {
     "elapsed": 304,
     "status": "error",
     "timestamp": 1639411565781,
     "user": {
      "displayName": "Błażej Miasojedow",
      "photoUrl": "https://lh3.googleusercontent.com/a/default-user=s64",
      "userId": "00239620711763402112"
     },
     "user_tz": -60
    },
    "id": "CKf6LLhxx4zS",
    "outputId": "78c88a40-70ba-456b-b2c2-eeaca0b121d2"
   },
   "outputs": [],
   "source": [
    "### Solution for the tutors.\n",
    "\n",
    "## Prior for a 99% probability that the true income\n",
    "## is between 1e04 and 1e12:\n",
    "mu01, sd01 = (1e12+1e04)/2, (1e12-1e04)/6  \n",
    "## Prior for a 99% probability that the true income\n",
    "## is between 1e06 and 2e08:\n",
    "mu02, sd02 = (2e08+1e06)/2, (2e08-1e06)/6\n",
    "## Prior for a 99% probability that the true income\n",
    "## is between 40e06 and 60e06:\n",
    "mu03, sd03 = (4e07+6e07)/2, (6e07-4e07)/6\n",
    "## Prior for a 99% probability that the true income\n",
    "## is between 80e06 and 100e06:\n",
    "mu04, sd04 = (1e08+8e07)/2, (1e08-8e07)/6\n",
    "mu0s = [mu01, mu02, mu03, mu04]\n",
    "sd0s = [sd01, sd02, sd03, sd04]\n",
    "\n",
    "## Posterior parameter function:\n",
    "def posterior_param(mu_prior, sd_prior, mu_data, sd_data, n):\n",
    "  \"\"\"\n",
    "  Assumes that sd_data = true sd.\n",
    "  \"\"\"\n",
    "  var_posterior = 1/(1/sd_prior**2 + n/sd_data**2)\n",
    "  mu_posterior = var_posterior \n",
    "  mu_posterior *= mu_prior/sd_prior**2 + n*mu_data/sd_data**2\n",
    "  sd_posterior = np.sqrt(var_posterior)\n",
    "  return (mu_posterior, sd_posterior)\n",
    "\n",
    "## Compute the posterior probability densities:\n",
    "x = np.linspace(1e06, 2e08, 501)\n",
    "posterior_pdf = pd.DataFrame({'x': x})\n",
    "pmus = []\n",
    "psds = []\n",
    "for i, name in enumerate(['Weakly informative',\n",
    "                          'Moderately informative',\n",
    "                          'Strongly informative',\n",
    "                          'Improper']):\n",
    "  pmu, psd = posterior_param(mu0s[i], sd0s[i], mu_estim, sd_estim, N)\n",
    "  posterior_pdf[name] = norm.pdf(x, loc=pmu, scale=psd)\n",
    "  pmus.append(pmu)\n",
    "  psds.append(psd)\n",
    "\n",
    "## Visualize the result:\n",
    "posterior_pdf = posterior_pdf.melt(id_vars='x', var_name=\"Type of prior\")\n",
    "fig = px.line(posterior_pdf, x='x', y='value', color='Type of prior')\n",
    "fig.add_vline(x=true_mean, annotation_text='True mean', opacity=0.5)\n",
    "fig.add_vline(x=mu_estim, annotation_text='Estimated mean', opacity=0.5, line_color='orange')\n",
    "fig.show()\n",
    "\n",
    "## Compare the moderately informative prior and its posterior:\n",
    "fig2 = px.line(posterior_pdf[posterior_pdf['Type of prior']=='Moderately informative'],\n",
    "               x='x', y='value')\n",
    "fig2.add_scatter(x=x, y=norm.pdf(x=x, loc=mu02, scale=sd02), line_dash='dash', name='Prior')\n",
    "fig2.add_vline(x=true_mean, annotation_text='True mean', opacity=0.5)\n",
    "fig2.add_vline(x=mu_estim, annotation_text='Estimated mean', opacity=0.5, line_color='orange')\n",
    "fig2.show()"
   ]
  },
  {
   "cell_type": "code",
   "execution_count": null,
   "metadata": {},
   "outputs": [],
   "source": []
  }
 ],
 "metadata": {
  "colab": {
   "collapsed_sections": [],
   "name": "Notebook 7 - tutor version.ipynb",
   "provenance": []
  },
  "kernelspec": {
   "display_name": "Python 3 (ipykernel)",
   "language": "python",
   "name": "python3"
  },
  "language_info": {
   "codemirror_mode": {
    "name": "ipython",
    "version": 3
   },
   "file_extension": ".py",
   "mimetype": "text/x-python",
   "name": "python",
   "nbconvert_exporter": "python",
   "pygments_lexer": "ipython3",
   "version": "3.9.16"
  }
 },
 "nbformat": 4,
 "nbformat_minor": 1
}
